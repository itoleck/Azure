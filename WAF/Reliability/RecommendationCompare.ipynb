{
 "cells": [
  {
   "cell_type": "code",
   "execution_count": null,
   "metadata": {},
   "outputs": [],
   "source": [
    "import os\n",
    "import pathlib\n",
    "from tkinter import filedialog\n",
    "from tkinter import *\n",
    "import pandas as pd\n",
    "import numpy as np\n",
    "\n",
    "recommendation_file = Tk()\n",
    "recommendation_file.filename = filedialog.askopenfilename(initialdir = \"c:\\\\\",title = \"Recommendations file\",filetypes = ((\"csv files\",\"*.csv\"),(\"all files\",\"*.*\")))\n",
    "\n",
    "resources_file = Tk()\n",
    "resources_file.filename = filedialog.askopenfilename(initialdir = \"c:\\\\\",title = \"Resources file\",filetypes = ((\"csv files\",\"*.csv\"),(\"all files\",\"*.*\")))\n",
    "\n",
    "df_recommendations = pd.read_csv(recommendation_file.filename)\n",
    "df_resources = pd.read_csv(resources_file.filename)\n",
    "\n",
    "df_recommendations_nonull = df_recommendations[df_recommendations['Resource Type'].notnull()]\n",
    "df_recommendations_filtered = df_recommendations_nonull[df_recommendations_nonull['Resource Type'].str.contains('microsoft.sql/servers/databases', case=False)]\n",
    "\n",
    "recommendation_file.destroy()\n",
    "resources_file.destroy()\n",
    "\n",
    "df_resources_unique = df_resources['Resource Type'].unique()\n",
    "\n",
    "for x in df_resources_unique:\n",
    "    df_recommendations_filtered = df_recommendations_nonull[df_recommendations_nonull['Resource Type'].str.contains(x, case=False) & df_recommendations_nonull['Recommendation title'].str.contains('zon', case=False)]\n",
    "    print(x)\n",
    "    print(df_recommendations_filtered['Recommendation title'])"
   ]
  }
 ],
 "metadata": {
  "kernelspec": {
   "display_name": "base",
   "language": "python",
   "name": "python3"
  },
  "language_info": {
   "codemirror_mode": {
    "name": "ipython",
    "version": 3
   },
   "file_extension": ".py",
   "mimetype": "text/x-python",
   "name": "python",
   "nbconvert_exporter": "python",
   "pygments_lexer": "ipython3",
   "version": "3.9.5"
  }
 },
 "nbformat": 4,
 "nbformat_minor": 2
}
