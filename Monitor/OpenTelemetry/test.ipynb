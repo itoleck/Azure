{
 "cells": [
  {
   "cell_type": "code",
   "execution_count": 1,
   "metadata": {},
   "outputs": [],
   "source": [
    "\"\"\"\n",
    "An example showing how to export exception telemetry using the AzureMonitorLogExporter.\n",
    "\"\"\"\n",
    "import os\n",
    "import logging\n",
    "\n",
    "from opentelemetry._logs import (\n",
    "    get_logger_provider,\n",
    "    set_logger_provider,\n",
    ")\n",
    "from opentelemetry.sdk._logs import (\n",
    "    LoggerProvider,\n",
    "    LoggingHandler,\n",
    ")\n",
    "from opentelemetry.sdk._logs.export import BatchLogRecordProcessor\n",
    "\n",
    "from azure.monitor.opentelemetry.exporter import AzureMonitorLogExporter\n",
    "\n",
    "set_logger_provider(LoggerProvider())\n",
    "exporter = AzureMonitorLogExporter(\n",
    "    connection_string=os.environ[\"APPLICATIONINSIGHTS_CONNECTION_STRING\"]\n",
    ")\n",
    "get_logger_provider().add_log_record_processor(BatchLogRecordProcessor(exporter))\n",
    "\n",
    "# Attach LoggingHandler to namespaced logger\n",
    "handler = LoggingHandler()\n",
    "logger = logging.getLogger(__name__)\n",
    "logger.addHandler(handler)\n",
    "logger.setLevel(logging.NOTSET)\n",
    "\n",
    "# The following code will generate two pieces of exception telemetry\n",
    "# that are identical in nature\n",
    "try:\n",
    "    val = 1 / 0\n",
    "    print(val)\n",
    "except ZeroDivisionError:\n",
    "    logger.exception(\"Error: Division by zero\")\n",
    "\n",
    "try:\n",
    "    val = 1 / 0\n",
    "    print(val)\n",
    "except ZeroDivisionError:\n",
    "    logger.error(\"Error: Division by zero\", stack_info=True, exc_info=True)"
   ]
  }
 ],
 "metadata": {
  "kernelspec": {
   "display_name": "base",
   "language": "python",
   "name": "python3"
  },
  "language_info": {
   "codemirror_mode": {
    "name": "ipython",
    "version": 3
   },
   "file_extension": ".py",
   "mimetype": "text/x-python",
   "name": "python",
   "nbconvert_exporter": "python",
   "pygments_lexer": "ipython3",
   "version": "3.9.5"
  }
 },
 "nbformat": 4,
 "nbformat_minor": 2
}
